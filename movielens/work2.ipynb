{
 "cells": [
  {
   "cell_type": "markdown",
   "metadata": {},
   "source": [
    "#  基于物品的协同过滤算法"
   ]
  },
  {
   "cell_type": "markdown",
   "metadata": {},
   "source": [
    "读取数据"
   ]
  },
  {
   "cell_type": "code",
   "execution_count": 2,
   "metadata": {
    "collapsed": false
   },
   "outputs": [
    {
     "name": "stdout",
     "output_type": "stream",
     "text": [
      "dict_keys(['Crumb (1994)', 'Vertigo (1958)', \"Jackie Chan's First Strike (1996)\", 'Adventures of Priscilla, Queen of the Desert, The (1994)', 'Return of the Pink Panther, The (1974)', 'Duck Soup (1933)', 'Bringing Up Baby (1938)', 'East of Eden (1955)', 'High Noon (1952)', 'Quiet Man, The (1952)', 'Miracle on 34th Street (1994)', 'Shining, The (1980)', 'Misérables, Les (1995)', 'Waterworld (1995)', 'Dragonheart (1996)', 'Angels in the Outfield (1994)', 'Thin Blue Line, The (1988)', 'Somewhere in Time (1980)', 'Delicatessen (1991)', 'Grease (1978)', 'Cat People (1982)', 'Crucible, The (1996)', 'Brady Bunch Movie, The (1995)', 'Hudsucker Proxy, The (1994)', 'Cliffhanger (1993)', 'Star Trek: The Wrath of Khan (1982)', 'Willy Wonka and the Chocolate Factory (1971)', 'Englishman Who Went Up a Hill, But Came Down a Mountain, The (1995)', 'Kalifornia (1993)', 'Diabolique (1996)', 'Killing Fields, The (1984)', 'The Innocent (1994)', 'Seventh Seal, The (Sjunde inseglet, Det) (1957)', 'Piano, The (1993)', 'Godfather, The (1972)', 'Dead Poets Society (1989)', 'Dolores Claiborne (1994)', \"Kid in King Arthur's Court, A (1995)\", 'Interview with the Vampire (1994)', 'Last of the Mohicans, The (1992)', 'Apollo 13 (1995)', 'Fish Called Wanda, A (1988)', 'Alice in Wonderland (1951)', 'Full Metal Jacket (1987)', 'Free Willy (1993)', 'Kull the Conqueror (1997)', 'Gone with the Wind (1939)', 'Welcome to the Dollhouse (1995)', 'Raiders of the Lost Ark (1981)', 'GoodFellas (1990)', 'Right Stuff, The (1983)', 'Giant (1956)', 'Ran (1985)', 'Davy Crockett, King of the Wild Frontier (1955)', 'Braveheart (1995)', 'Chasing Amy (1997)', 'Robin Hood: Prince of Thieves (1991)', 'Air Force One (1997)', 'On Golden Pond (1981)', 'Ben-Hur (1959)', 'Treasure of the Sierra Madre, The (1948)', 'Christmas Carol, A (1938)', 'Terminator, The (1984)', 'Grifters, The (1990)', 'True Romance (1993)', 'So I Married an Axe Murderer (1993)', 'Richard III (1995)', 'My Fair Lady (1964)', 'Lawrence of Arabia (1962)', 'Chinatown (1974)', 'Monty Python and the Holy Grail (1974)', 'Full Monty, The (1997)', 'Secrets & Lies (1996)', 'Fantasia (1940)', 'Outbreak (1995)', 'Blade Runner (1982)', 'Man Who Would Be King, The (1975)', 'Notorious (1946)', 'Manchurian Candidate, The (1962)', 'Bedknobs and Broomsticks (1971)', 'E.T. the Extra-Terrestrial (1982)', 'Reservoir Dogs (1992)', 'Spellbound (1945)', 'Die Hard 2 (1990)', 'Young Frankenstein (1974)', 'Picnic (1955)', 'Hour of the Pig, The (1993)', 'Empire Strikes Back, The (1980)', 'Babe (1995)', 'Unforgiven (1992)', 'River Wild, The (1994)', 'Dial M for Murder (1954)', 'Wyatt Earp (1994)', \"Wes Craven's New Nightmare (1994)\", 'Howling, The (1981)', 'Three Caballeros, The (1945)', 'Jurassic Park (1993)', 'Good, The Bad and The Ugly, The (1966)', 'Courage Under Fire (1996)', 'Star Trek V: The Final Frontier (1989)', 'Apartment, The (1960)', 'True Lies (1994)', 'Audrey Rose (1977)', 'Indiana Jones and the Last Crusade (1989)', 'African Queen, The (1951)', 'Body Parts (1991)', 'Young Guns (1988)', 'Pump Up the Volume (1990)', 'Alien (1979)', 'Heavy Metal (1981)', 'Bonnie and Clyde (1967)', 'Mr. Smith Goes to Washington (1939)', 'Butch Cassidy and the Sundance Kid (1969)', 'Escape from New York (1981)', 'Highlander (1986)', 'Casablanca (1942)', 'Smoke (1995)', 'Return of the Jedi (1983)', 'Twelve Monkeys (1995)', 'Maltese Falcon, The (1941)', 'Die Hard: With a Vengeance (1995)', \"Monty Python's Life of Brian (1979)\", 'Manon of the Spring (Manon des sources) (1986)', 'Psycho (1960)', 'Quick and the Dead, The (1995)', 'Amadeus (1984)', 'Rocket Man (1997)', 'Three Musketeers, The (1993)', 'Love Bug, The (1969)', 'Star Trek VI: The Undiscovered Country (1991)', 'Wild Bunch, The (1969)', 'Dumbo (1941)', 'Cyrano de Bergerac (1990)', 'Mrs. Doubtfire (1993)', 'Pocahontas (1995)', 'Police Story 4: Project S (Chao ji ji hua) (1993)', 'Annie Hall (1977)', 'Pinocchio (1940)', 'Great Race, The (1965)', 'Serial Mom (1994)', 'Patton (1970)', 'Fugitive, The (1993)', \"Breakfast at Tiffany's (1961)\", 'Cape Fear (1962)', 'Independence Day (ID4) (1996)', 'Arsenic and Old Lace (1944)', 'Omen, The (1976)', 'Tales from the Hood (1995)', 'Event Horizon (1997)', 'Nosferatu (Nosferatu, eine Symphonie des Grauens) (1922)', 'Heat (1995)', 'Unbearable Lightness of Being, The (1988)', 'Spitfire Grill, The (1996)', 'Extreme Measures (1996)', \"Stephen King's The Langoliers (1995)\", 'NeverEnding Story III, The (1994)', 'So Dear to My Heart (1949)', 'Some Like It Hot (1959)', 'Paris Is Burning (1990)', 'Henry V (1989)', 'Mimic (1997)', 'Wishmaster (1997)', 'Swiss Family Robinson (1960)', 'Top Gun (1986)', 'Harold and Maude (1971)', 'Scream (1996)', 'Mask, The (1994)', 'Black Beauty (1994)', 'U Turn (1997)', 'Around the World in 80 Days (1956)', 'Great Escape, The (1963)', 'Fatal Instinct (1993)', 'Sling Blade (1996)', 'George of the Jungle (1997)', \"White Man's Burden (1995)\", 'It Happened One Night (1934)', \"It's a Wonderful Life (1946)\", 'North by Northwest (1959)', \"Devil's Advocate, The (1997)\", 'Aliens (1986)', 'Cinderella (1950)', 'Mortal Kombat (1995)', 'Touch of Evil (1958)', 'Walk in the Clouds, A (1995)', 'Boot, Das (1981)', 'Adventures of Robin Hood, The (1938)', 'Twister (1996)', 'My Own Private Idaho (1991)', 'Natural Born Killers (1994)', 'Snow White and the Seven Dwarfs (1937)', 'Village of the Damned (1995)', 'Jungle Book, The (1994)', 'Secret Garden, The (1993)', 'Cat on a Hot Tin Roof (1958)', 'Blue Angel, The (Blaue Engel, Der) (1930)', 'Nightmare on Elm Street, A (1984)', 'When Harry Met Sally... (1989)', 'Wild Bill (1995)', 'Dances with Wolves (1990)', '2001: A Space Odyssey (1968)', 'Raging Bull (1980)', 'Carrie (1976)', 'Lost Horizon (1937)', 'Nightmare Before Christmas, The (1993)', 'Beauty and the Beast (1991)', 'Fried Green Tomatoes (1991)', 'Liar Liar (1997)', 'Batman Returns (1992)', 'Evil Dead II (1987)', 'Hunchback of Notre Dame, The (1996)', 'Laura (1944)', 'I Know What You Did Last Summer (1997)', 'My Life as a Dog (Mitt liv som hund) (1985)', 'Sound of Music, The (1965)', 'Volcano (1997)', 'Sleepers (1996)', 'Silence of the Lambs, The (1991)', 'Bridge on the River Kwai, The (1957)', 'Star Trek III: The Search for Spock (1984)', 'Taxi Driver (1976)', 'Romeo Is Bleeding (1993)', 'Brazil (1985)', 'Godfather: Part II, The (1974)', \"Young Poisoner's Handbook, The (1995)\", 'Star Trek: The Motion Picture (1979)', 'Mary Poppins (1964)', 'Boxing Helena (1993)', 'Night of the Living Dead (1968)', 'M (1931)', 'Heavenly Creatures (1994)', 'Homeward Bound: The Incredible Journey (1993)', 'Fire on the Mountain (1996)', 'Fargo (1996)', 'Farinelli: il castrato (1994)', 'Bad Boys (1995)', 'Father of the Bride (1950)', 'Firm, The (1993)', 'Mission: Impossible (1996)', 'Last Action Hero (1993)', 'Pulp Fiction (1994)', 'Stargate (1994)', 'Batman Forever (1995)', 'Species (1995)', \"Daniel Defoe's Robinson Crusoe (1996)\", 'Burnt Offerings (1976)', 'Star Trek: Generations (1994)', 'Contact (1997)', 'Stalingrad (1993)', '12 Angry Men (1957)', 'Old Yeller (1957)', 'Another Stakeout (1993)', 'Streetcar Named Desire, A (1951)', 'Once Upon a Time in the West (1969)', 'Alien 3 (1992)', 'English Patient, The (1996)', 'My Man Godfrey (1936)', 'Ed Wood (1994)', 'Shawshank Redemption, The (1994)', 'Rear Window (1954)', 'Platoon (1986)', 'Fan, The (1996)', 'Field of Dreams (1989)', 'Blown Away (1994)', 'Jerry Maguire (1996)', 'Room with a View, A (1986)', 'Hellraiser: Bloodline (1996)', 'Hot Shots! Part Deux (1993)', 'Legends of the Fall (1994)', 'Conan the Barbarian (1981)', 'Lost Highway (1997)', 'Day the Earth Stood Still, The (1951)', 'Eraser (1996)', 'Citizen Kane (1941)', 'Son in Law (1993)', 'Sting, The (1973)', 'Amityville II: The Possession (1982)', 'Jaws (1975)', 'Batman (1989)', 'Demolition Man (1993)', 'American Werewolf in London, An (1981)', 'Gandhi (1982)', 'Chamber, The (1996)', 'Candidate, The (1972)', 'Blob, The (1958)', 'Primal Fear (1996)', 'Naked Gun 33 1/3: The Final Insult (1994)', 'Roman Holiday (1953)', 'Crying Game, The (1992)', 'Parent Trap, The (1961)', \"Microcosmos: Le peuple de l'herbe (1996)\", 'Paths of Glory (1957)', 'Money Train (1995)', 'Maverick (1994)', \"Blood For Dracula (Andy Warhol's Dracula) (1974)\", 'Lord of Illusions (1995)', 'Sword in the Stone, The (1963)', 'Back to the Future (1985)', 'Ghost (1990)', 'Vampire in Brooklyn (1995)', 'Rosencrantz and Guildenstern Are Dead (1990)', 'Star Trek IV: The Voyage Home (1986)', 'Blood Beach (1981)', 'Fog, The (1980)', \"City Slickers II: The Legend of Curly's Gold (1994)\", 'Candyman (1992)', 'Forbidden Planet (1956)', 'Groundhog Day (1993)', 'Cool Hand Luke (1967)', '20,000 Leagues Under the Sea (1954)', 'Body Snatchers (1993)', 'Meet Me in St. Louis (1944)', 'Jaws 2 (1978)', 'All About Eve (1950)', 'Addams Family Values (1993)', 'Raising Arizona (1987)', 'Crow, The (1994)', 'Magnificent Seven, The (1954)', 'Heavy (1995)', 'Cook the Thief His Wife & Her Lover, The (1989)', 'Age of Innocence, The (1993)', 'Bananas (1971)', 'Get Shorty (1995)', \"Things to Do in Denver when You're Dead (1995)\", 'Third Man, The (1949)', 'Stand by Me (1986)', 'Return of Martin Guerre, The (Retour de Martin Guerre, Le) (1982)', 'Lawnmower Man, The (1992)', 'For Whom the Bell Tolls (1943)', 'Rebel Without a Cause (1955)', 'Heathers (1989)', 'Once Upon a Time in America (1984)', 'Dr. Strangelove or: How I Learned to Stop Worrying and Love the Bomb (1963)', 'Client, The (1994)', 'Pink Floyd - The Wall (1982)', 'Bride of Frankenstein (1935)', 'Speed (1994)', 'Tombstone (1993)', 'Clear and Present Danger (1994)', 'Blues Brothers, The (1980)', 'Birdcage, The (1996)', 'Apocalypse Now (1979)', 'Dead Man Walking (1995)', 'Rob Roy (1995)', '39 Steps, The (1935)', 'Sunset Blvd. (1950)', 'Gigi (1958)', 'Tales From the Crypt Presents: Demon Knight (1995)', 'Broken Arrow (1996)', 'Birds, The (1963)', 'Glory (1989)', 'Four Weddings and a Funeral (1994)', 'Lion King, The (1994)', 'American in Paris, An (1951)', 'Secret of Roan Inish, The (1994)', 'Terminal Velocity (1994)', 'Terminator 2: Judgment Day (1991)', 'Coneheads (1993)', 'Critical Care (1997)', 'Powder (1995)', 'Clockwork Orange, A (1971)', 'Victor/Victoria (1982)', 'True Crime (1995)', 'Strange Days (1995)', 'Phenomenon (1996)', 'Being There (1979)', 'Wizard of Oz, The (1939)', 'To Kill a Mockingbird (1962)', 'Crimson Tide (1995)', 'Forrest Gump (1994)', \"Bram Stoker's Dracula (1992)\", \"Schindler's List (1993)\", 'Hunt for Red October, The (1990)', 'Sense and Sensibility (1995)', 'Apple Dumpling Gang, The (1975)', 'Madness of King George, The (1994)', 'Paris, Texas (1984)', 'Seven (Se7en) (1995)', \"Sophie's Choice (1982)\", 'Graduate, The (1967)', 'Die Hard (1988)', 'M*A*S*H (1970)', 'Wolf (1994)', 'Usual Suspects, The (1995)', \"William Shakespeare's Romeo and Juliet (1996)\", 'My Left Foot (1989)', 'Star Wars (1977)', \"One Flew Over the Cuckoo's Nest (1975)\", 'Rebecca (1940)', 'Remains of the Day, The (1993)', 'In the Name of the Father (1993)', 'Abyss, The (1989)', 'Deceiver (1997)', \"Mary Shelley's Frankenstein (1994)\", 'Deer Hunter, The (1978)', 'Princess Bride, The (1987)', 'Tin Drum, The (Blechtrommel, Die) (1979)', 'Amityville Horror, The (1979)', 'Nikita (La Femme Nikita) (1990)', 'Sleeper (1973)', 'Clueless (1995)', 'Big Squeeze, The (1996)'])\n"
     ]
    }
   ],
   "source": [
    "import math\n",
    "import numpy as np\n",
    "\n",
    "def load_movielens(path='./ml-100k'):\n",
    "    \n",
    "    # get movie titles\n",
    "    movies = {}\n",
    "    for line in open(path + '/u.item', encoding='latin-1'):\n",
    "        id, title = line.split('|')[0:2]\n",
    "        movies[id] = title\n",
    "    # load data\n",
    "    prefs = {}\n",
    "    for line in open(path + '/u.data', encoding='latin-1'):\n",
    "        user, movieid, rating, ts = line.split('\\t')\n",
    "        prefs.setdefault(user, {})\n",
    "        prefs[user][movies[movieid]] = float(rating)\n",
    "    return prefs\n",
    "\n",
    "prefs = load_movielens()['7']\n",
    "print(prefs.keys())"
   ]
  },
  {
   "cell_type": "markdown",
   "metadata": {},
   "source": [
    "建立模型：基于物品的ItemCF-IUF算法"
   ]
  },
  {
   "cell_type": "code",
   "execution_count": 1,
   "metadata": {
    "collapsed": true
   },
   "outputs": [],
   "source": [
    "def item_based_recommend(data, w, user):\n",
    "    \"\"\"\n",
    "    基于物品相似度为用户 user 推荐物品\n",
    "\n",
    "    Args:\n",
    "    - data: mat, 物品用户矩阵\n",
    "    - w: mat, 物品与物品之间的相似性\n",
    "    - user: int, 用户编号\n",
    "\n",
    "    :return: predict, list, 推荐列表\n",
    "    \"\"\"\n",
    "\n",
    "    m, n = np.shape(data)  # m: 物品数量 n: 用户数量\n",
    "    interaction = data[:, user].T  # 用户 user 互动物品信息\n",
    "\n",
    "    # 找到用户 user 没有互动的商品\n",
    "    not_iter = []\n",
    "    for i in range(m):\n",
    "        if interaction[0, i] == 0:  # 用户 user 未打分项\n",
    "            not_iter.append(i)\n",
    "\n",
    "    # 对没有互动过的物品进行预测\n",
    "    predict = {}\n",
    "    for x in not_iter:\n",
    "        item = np.copy(interaction)  # 获取用户 user 对物品的互动信息\n",
    "        for j in range(m):   # 对每一个物品\n",
    "            if item[0, j] != 0:  # 利用互动过的物品预测\n",
    "                if x not in predict:\n",
    "                    predict[x] = w[x, j] * item[0, j]\n",
    "                else:\n",
    "                    predict[x] = predict[x] + w[x, j] * item[0, j]\n",
    "    # 按照预测的大小从大到小排序\n",
    "    return sorted(predict.items(), key=lambda d: d[1], reverse=True)"
   ]
  },
  {
   "cell_type": "markdown",
   "metadata": {},
   "source": [
    "在ml-100k上进行测试"
   ]
  }
 ],
 "metadata": {
  "kernelspec": {
   "display_name": "Python 3",
   "language": "python",
   "name": "python3"
  },
  "language_info": {
   "codemirror_mode": {
    "name": "ipython",
    "version": 3
   },
   "file_extension": ".py",
   "mimetype": "text/x-python",
   "name": "python",
   "nbconvert_exporter": "python",
   "pygments_lexer": "ipython3",
   "version": "3.6.3"
  }
 },
 "nbformat": 4,
 "nbformat_minor": 2
}
